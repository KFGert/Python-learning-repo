{
 "cells": [
  {
   "cell_type": "code",
   "execution_count": 12,
   "id": "dcc2db58",
   "metadata": {},
   "outputs": [
    {
     "data": {
      "text/plain": [
       "float"
      ]
     },
     "execution_count": 12,
     "metadata": {},
     "output_type": "execute_result"
    }
   ],
   "source": [
    "num_1 = 5.0\n",
    "num_2 = 10\n",
    "answer = num_2/num_1\n",
    "answer_str = str(answer)\n",
    "\n",
    "# int, integer\n",
    "# str, string\n",
    "# float\n",
    "# * multiply\n",
    "# / divide\n",
    "# + plus\n",
    "# - minus\n",
    "\n",
    "type(num_1)"
   ]
  },
  {
   "cell_type": "code",
   "execution_count": 20,
   "id": "5dd37a56",
   "metadata": {},
   "outputs": [
    {
     "name": "stdout",
     "output_type": "stream",
     "text": [
      "15\n"
     ]
    }
   ],
   "source": [
    "a = 3\n",
    "b = 5\n",
    "answer = a * b\n",
    "print(answer)"
   ]
  },
  {
   "cell_type": "markdown",
   "id": "085541d7",
   "metadata": {},
   "source": []
  },
  {
   "cell_type": "code",
   "execution_count": 28,
   "id": "8baa44a9",
   "metadata": {},
   "outputs": [
    {
     "data": {
      "text/plain": [
       "12.56"
      ]
     },
     "execution_count": 28,
     "metadata": {},
     "output_type": "execute_result"
    }
   ],
   "source": [
    "r = 2\n",
    "pi = 3.14\n",
    "\n",
    "area = pi * r ** 2\n",
    "\n",
    "area"
   ]
  },
  {
   "cell_type": "code",
   "execution_count": 32,
   "id": "7b8ee7f5",
   "metadata": {},
   "outputs": [
    {
     "data": {
      "text/plain": [
       "'Hi, my name is Kay, and I am a Data Manager'"
      ]
     },
     "execution_count": 32,
     "metadata": {},
     "output_type": "execute_result"
    }
   ],
   "source": [
    "name = \"Kay\"\n",
    "job = \"Data Manager\"\n",
    "\n",
    "name_job = f\"Hi, my name is {name}, and I am a {job}\"\n",
    "\n",
    "name_job"
   ]
  },
  {
   "cell_type": "code",
   "execution_count": 46,
   "id": "ec4f3c78",
   "metadata": {},
   "outputs": [
    {
     "data": {
      "text/plain": [
       "' Manage'"
      ]
     },
     "execution_count": 46,
     "metadata": {},
     "output_type": "execute_result"
    }
   ],
   "source": [
    "phrase = name_job\n",
    "\n",
    "phrase [-8:-1]\n",
    "\n",
    "#  iterable\n",
    "# iterate over\n",
    "# a thing that has parts that can be accessed one at a time\n",
    "# counting in python starts at 0\n",
    "\n",
    "# [start : stop : step]\n",
    "# start is inclusive\n",
    "# stop is exclusive - stops the character before\n",
    "# to start from the right use - (minus)\n"
   ]
  },
  {
   "cell_type": "code",
   "execution_count": 49,
   "id": "99e0664d",
   "metadata": {},
   "outputs": [
    {
     "data": {
      "text/plain": [
       "'list_1'"
      ]
     },
     "execution_count": 49,
     "metadata": {},
     "output_type": "execute_result"
    }
   ],
   "source": [
    "filename = \"ssda903_list_1.csv\"\n",
    "\n",
    "short_fn = filename[8:-4]\n",
    "\n",
    "short_fn"
   ]
  }
 ],
 "metadata": {
  "kernelspec": {
   "display_name": "Python 3",
   "language": "python",
   "name": "python3"
  },
  "language_info": {
   "codemirror_mode": {
    "name": "ipython",
    "version": 3
   },
   "file_extension": ".py",
   "mimetype": "text/x-python",
   "name": "python",
   "nbconvert_exporter": "python",
   "pygments_lexer": "ipython3",
   "version": "3.12.1"
  }
 },
 "nbformat": 4,
 "nbformat_minor": 5
}
