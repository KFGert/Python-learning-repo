{
 "cells": [
  {
   "cell_type": "code",
   "execution_count": null,
   "id": "85795988",
   "metadata": {},
   "outputs": [
    {
     "data": {
      "text/plain": [
       "'ibe1'"
      ]
     },
     "execution_count": 13,
     "metadata": {},
     "output_type": "execute_result"
    }
   ],
   "source": [
    "var_1 = 10 #int (whole numbers)\n",
    "var_2 = 10.10 #float (number with decimals)\n",
    "var_3 =\"10\" #string (characters 1 and then 0)\n",
    "\n",
    "#type(var_3)\n",
    "\n",
    "long_string = f\"here is variable 1:{var_1}\"\n",
    "\n",
    "#print(long_string)\n",
    "\n",
    "#indexes start at 0\n",
    "#[ start : stop]\n",
    "# start is inclusive, stop is exclusive\n",
    "#we can start counting from the right using a minus\n",
    "\n",
    "\n",
    "\n",
    "long_string[-10:-2:2]"
   ]
  },
  {
   "cell_type": "code",
   "execution_count": 9,
   "id": "dc36f4ec",
   "metadata": {},
   "outputs": [
    {
     "name": "stdout",
     "output_type": "stream",
     "text": [
      "False\n"
     ]
    }
   ],
   "source": [
    "# Using the key, print the values of one of the restaurants in your dicitonary.\n",
    "# Add a new key:value pair to your dictionary, as above.\n",
    "# Check whether 'Coffee Shop' is a key in your dictionary, printing the answer.\n",
    "\n",
    "foods = {\"Pub\":\"Sunday Roast\",\n",
    "         \"The Chippy\":[\"Fish\", \"Chips\"],\n",
    "         \"Restaurant\":{\"Week days\":\"Limited menu\",\n",
    "                       \"Weekends\":\"Tasting Menu\"}}\n",
    "\n",
    "foods['Pub']\n",
    "foods['Bakrey'] = \"Breads\"\n",
    "print(\"Coffee Shop\" in foods)"
   ]
  },
  {
   "cell_type": "code",
   "execution_count": null,
   "id": "99546533",
   "metadata": {},
   "outputs": [],
   "source": []
  },
  {
   "cell_type": "code",
   "execution_count": null,
   "id": "71d55373",
   "metadata": {},
   "outputs": [],
   "source": [
    "#Lists -> store lists of things\n",
    "#store lists of columns, lists of allowed gender codes or placement codes\n",
    "#use those to clean up tabular data\n",
    "\n",
    "\n",
    "\n",
    "#Dictionaries - > store variables or other things in key : value pairs"
   ]
  },
  {
   "cell_type": "code",
   "execution_count": 14,
   "id": "110bbdf8",
   "metadata": {},
   "outputs": [
    {
     "data": {
      "text/plain": [
       "list"
      ]
     },
     "execution_count": 14,
     "metadata": {},
     "output_type": "execute_result"
    }
   ],
   "source": [
    "list_1 = []\n",
    "\n",
    "type(list_1)\n"
   ]
  },
  {
   "cell_type": "code",
   "execution_count": 18,
   "id": "ac6fc5f1",
   "metadata": {},
   "outputs": [
    {
     "name": "stdout",
     "output_type": "stream",
     "text": [
      "['red', 'blue', ['green', 'turquoise', 'beige']]\n"
     ]
    }
   ],
   "source": [
    "cols_1 = [\"red\", \"blue\", [\"green\",\"turquoise\",\"beige\"]]\n",
    "\n",
    "type(cols_1)\n",
    "\n",
    "print(cols_1)"
   ]
  },
  {
   "cell_type": "code",
   "execution_count": 4,
   "id": "498af554",
   "metadata": {},
   "outputs": [
    {
     "name": "stdout",
     "output_type": "stream",
     "text": [
      "{'Will': 'black', 'Clare': 'yellow', 'Marcel': {'monday': ['blue', 'yellow'], 'Row': 'Grey'}, 'Andrew': 'black'}\n",
      "True\n",
      "False\n"
     ]
    }
   ],
   "source": [
    "fav_colours = {\"Will\":\"black\",\n",
    "               \"Clare\":\"yellow\",\n",
    "               \"Marcel\":{\"monday\":[\"blue\",\"yellow\"],\n",
    "                         \"Row\":\"Grey\"}}\n",
    "\n",
    "fav_colours[\"Andrew\"]=\"black\"\n",
    "print(fav_colours)\n",
    "\n",
    "print(\"Will\" in fav_colours)\n",
    "print(\"naiomi\" in fav_colours)"
   ]
  },
  {
   "cell_type": "code",
   "execution_count": 6,
   "id": "707602c9",
   "metadata": {},
   "outputs": [
    {
     "data": {
      "text/plain": [
       "'al :'"
      ]
     },
     "execution_count": 6,
     "metadata": {},
     "output_type": "execute_result"
    }
   ],
   "source": [
    "var_1 = 10 # int\n",
    "var_2 = 10.10 # float\n",
    "var_3 = \"10\" # string\n",
    "\n",
    "# print(type(var_3))\n",
    "\n",
    "long_string = f\"Here is variable 1: {var_1}\"\n",
    "\n",
    "# print(long_string)\n",
    "\n",
    "# indexes start at 0\n",
    "# [ start : stop : step]\n",
    "# start is inclusive, stop is exclusive\n",
    "# we can start counting from the right using a minus\n",
    "\n",
    "\n",
    "long_string[-10:-2:2]"
   ]
  },
  {
   "cell_type": "code",
   "execution_count": 11,
   "id": "802798f2",
   "metadata": {},
   "outputs": [
    {
     "name": "stdout",
     "output_type": "stream",
     "text": [
      "{'Will': 'black', 'Clare': 'yellow', 'Marcel': {'Monday': ['blue', 'yellow'], 'RoW': 'Grey'}, 'Andrew': 'black'}\n",
      "{'Will': ['purple', 'black'], 'Clare': 'yellow', 'Marcel': {'Monday': ['blue', 'yellow'], 'RoW': 'Grey'}, 'Andrew': 'black'}\n",
      "True\n",
      "False\n"
     ]
    }
   ],
   "source": [
    "fav_colours = {\"Will\":\"black\", \n",
    "               \"Clare\":\"yellow\",\n",
    "               \"Marcel\":{\"Monday\":[\"blue\", \"yellow\"],\n",
    "                         \"RoW\":\"Grey\"}}\n",
    "\n",
    "fav_colours[\"Andrew\"] = \"black\" # this notation is the same for columns when working with tab. data\n",
    "print(fav_colours)\n",
    "\n",
    "fav_colours['Will'] = [\"purple\", \"black\"]\n",
    "\n",
    "print(fav_colours)\n",
    "\n",
    "print(\"Will\" in fav_colours)\n",
    "print(\"Naiomi\" in fav_colours)\n",
    "\n"
   ]
  }
 ],
 "metadata": {
  "kernelspec": {
   "display_name": "Python 3",
   "language": "python",
   "name": "python3"
  },
  "language_info": {
   "codemirror_mode": {
    "name": "ipython",
    "version": 3
   },
   "file_extension": ".py",
   "mimetype": "text/x-python",
   "name": "python",
   "nbconvert_exporter": "python",
   "pygments_lexer": "ipython3",
   "version": "3.12.1"
  }
 },
 "nbformat": 4,
 "nbformat_minor": 5
}
